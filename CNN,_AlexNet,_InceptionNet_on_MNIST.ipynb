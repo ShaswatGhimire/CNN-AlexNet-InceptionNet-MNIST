{
  "metadata": {
    "kernelspec": {
      "display_name": "Python 3",
      "name": "python3"
    },
    "language_info": {
      "name": "python",
      "version": "3.10.13",
      "mimetype": "text/x-python",
      "codemirror_mode": {
        "name": "ipython",
        "version": 3
      },
      "pygments_lexer": "ipython3",
      "nbconvert_exporter": "python",
      "file_extension": ".py"
    },
    "kaggle": {
      "accelerator": "nvidiaTeslaT4",
      "dataSources": [
        {
          "sourceId": 242592,
          "sourceType": "datasetVersion",
          "datasetId": 102285
        }
      ],
      "dockerImageVersionId": 30733,
      "isInternetEnabled": true,
      "language": "python",
      "sourceType": "notebook",
      "isGpuEnabled": true
    },
    "colab": {
      "name": "CNN, AlexNet, InceptionNet on MNIST",
      "provenance": [],
      "gpuType": "T4"
    },
    "accelerator": "GPU"
  },
  "nbformat_minor": 0,
  "nbformat": 4,
  "cells": [
    {
      "cell_type": "markdown",
      "source": [
        "# ANN, CNN, CNN with Batch Normalization and Dropout, Alex Net, Inception Net on MNIST dataset"
      ],
      "metadata": {
        "id": "JAOWD43611R6"
      }
    },
    {
      "cell_type": "code",
      "source": [
        "import numpy as np\n",
        "import pandas as pd\n",
        "import matplotlib.pyplot as plt\n",
        "\n",
        "import keras\n",
        "import tensorflow as tf\n",
        "from keras import layers\n",
        "from keras import models\n",
        "from keras.datasets import mnist\n",
        "from keras.utils import to_categorical\n",
        "\n",
        "from tensorflow.keras.layers import Conv2D, MaxPooling2D, Concatenate, Input, Dropout, Dense, Flatten, GlobalAveragePooling2D\n",
        "\n",
        "\n",
        "import warnings\n",
        "warnings.filterwarnings(\"ignore\")"
      ],
      "metadata": {
        "execution": {
          "iopub.status.busy": "2024-06-13T12:56:24.668203Z",
          "iopub.execute_input": "2024-06-13T12:56:24.66884Z",
          "iopub.status.idle": "2024-06-13T12:56:24.674674Z",
          "shell.execute_reply.started": "2024-06-13T12:56:24.668805Z",
          "shell.execute_reply": "2024-06-13T12:56:24.673628Z"
        },
        "trusted": true,
        "id": "bx09BE3hwO4J"
      },
      "execution_count": 1,
      "outputs": []
    },
    {
      "cell_type": "code",
      "source": [
        "if len(tf.config.list_physical_devices('GPU')) > 0:\n",
        "    print(\"GPU available\")\n",
        "else:\n",
        "    print(\"GPU not available\")"
      ],
      "metadata": {
        "execution": {
          "iopub.status.busy": "2024-06-13T12:56:24.675903Z",
          "iopub.execute_input": "2024-06-13T12:56:24.676355Z",
          "iopub.status.idle": "2024-06-13T12:56:24.688049Z",
          "shell.execute_reply.started": "2024-06-13T12:56:24.676305Z",
          "shell.execute_reply": "2024-06-13T12:56:24.686931Z"
        },
        "trusted": true,
        "id": "DvS3ZHCKwO4K",
        "outputId": "2eb21daa-ec9c-4c16-cdad-3758241d0f0e",
        "colab": {
          "base_uri": "https://localhost:8080/"
        }
      },
      "execution_count": 2,
      "outputs": [
        {
          "output_type": "stream",
          "name": "stdout",
          "text": [
            "GPU available\n"
          ]
        }
      ]
    },
    {
      "cell_type": "code",
      "source": [
        "(X_train, y_train), (X_test , y_test)  = mnist.load_data()"
      ],
      "metadata": {
        "execution": {
          "iopub.status.busy": "2024-06-13T12:56:24.690734Z",
          "iopub.execute_input": "2024-06-13T12:56:24.691644Z",
          "iopub.status.idle": "2024-06-13T12:56:24.963667Z",
          "shell.execute_reply.started": "2024-06-13T12:56:24.691607Z",
          "shell.execute_reply": "2024-06-13T12:56:24.962877Z"
        },
        "trusted": true,
        "id": "y22h0iG3wO4K",
        "outputId": "c4a9a1a4-69c9-4d6a-d0b1-90d3cd3850d1",
        "colab": {
          "base_uri": "https://localhost:8080/"
        }
      },
      "execution_count": 3,
      "outputs": [
        {
          "output_type": "stream",
          "name": "stdout",
          "text": [
            "Downloading data from https://storage.googleapis.com/tensorflow/tf-keras-datasets/mnist.npz\n",
            "11490434/11490434 [==============================] - 2s 0us/step\n"
          ]
        }
      ]
    },
    {
      "cell_type": "code",
      "source": [
        "X_train.shape"
      ],
      "metadata": {
        "execution": {
          "iopub.status.busy": "2024-06-13T12:56:24.964693Z",
          "iopub.execute_input": "2024-06-13T12:56:24.964952Z",
          "iopub.status.idle": "2024-06-13T12:56:24.971206Z",
          "shell.execute_reply.started": "2024-06-13T12:56:24.964929Z",
          "shell.execute_reply": "2024-06-13T12:56:24.970198Z"
        },
        "trusted": true,
        "id": "ycn1y1vcwO4K",
        "outputId": "eb018a45-b876-486f-e18e-76189c40d463",
        "colab": {
          "base_uri": "https://localhost:8080/"
        }
      },
      "execution_count": 4,
      "outputs": [
        {
          "output_type": "execute_result",
          "data": {
            "text/plain": [
              "(60000, 28, 28)"
            ]
          },
          "metadata": {},
          "execution_count": 4
        }
      ]
    },
    {
      "cell_type": "code",
      "source": [
        "y_train.shape"
      ],
      "metadata": {
        "execution": {
          "iopub.status.busy": "2024-06-13T12:56:24.972442Z",
          "iopub.execute_input": "2024-06-13T12:56:24.972782Z",
          "iopub.status.idle": "2024-06-13T12:56:24.9807Z",
          "shell.execute_reply.started": "2024-06-13T12:56:24.97275Z",
          "shell.execute_reply": "2024-06-13T12:56:24.97984Z"
        },
        "trusted": true,
        "id": "0OSN3BqywO4L",
        "outputId": "f1f8b11d-117b-4fa7-cb2d-b302f59d8711",
        "colab": {
          "base_uri": "https://localhost:8080/"
        }
      },
      "execution_count": 5,
      "outputs": [
        {
          "output_type": "execute_result",
          "data": {
            "text/plain": [
              "(60000,)"
            ]
          },
          "metadata": {},
          "execution_count": 5
        }
      ]
    },
    {
      "cell_type": "code",
      "source": [
        "X_test.shape"
      ],
      "metadata": {
        "execution": {
          "iopub.status.busy": "2024-06-13T12:56:24.981788Z",
          "iopub.execute_input": "2024-06-13T12:56:24.982074Z",
          "iopub.status.idle": "2024-06-13T12:56:24.989652Z",
          "shell.execute_reply.started": "2024-06-13T12:56:24.982006Z",
          "shell.execute_reply": "2024-06-13T12:56:24.988711Z"
        },
        "trusted": true,
        "id": "wRUPPmXswO4M",
        "outputId": "a742e8ea-e356-44a2-d8e4-cbc265e81bf8",
        "colab": {
          "base_uri": "https://localhost:8080/"
        }
      },
      "execution_count": 6,
      "outputs": [
        {
          "output_type": "execute_result",
          "data": {
            "text/plain": [
              "(10000, 28, 28)"
            ]
          },
          "metadata": {},
          "execution_count": 6
        }
      ]
    },
    {
      "cell_type": "code",
      "source": [
        "X_train = X_train.reshape(X_train.shape[0], 28, 28 , 1).astype('float32') / 255\n",
        "X_test = X_test.reshape(X_test.shape[0], 28, 28 , 1).astype('float32') / 255\n",
        "\n",
        "train_labels = (y_train).astype(np.int64)\n",
        "y_test = (y_test).astype(np.int64)\n",
        "\n",
        "y_test.shape"
      ],
      "metadata": {
        "execution": {
          "iopub.status.busy": "2024-06-13T12:56:24.991057Z",
          "iopub.execute_input": "2024-06-13T12:56:24.991494Z",
          "iopub.status.idle": "2024-06-13T12:56:25.069069Z",
          "shell.execute_reply.started": "2024-06-13T12:56:24.991461Z",
          "shell.execute_reply": "2024-06-13T12:56:25.068176Z"
        },
        "trusted": true,
        "id": "PSnX3smTwO4M",
        "outputId": "2278796d-5748-4341-fb5c-8ac538b1d667",
        "colab": {
          "base_uri": "https://localhost:8080/"
        }
      },
      "execution_count": 7,
      "outputs": [
        {
          "output_type": "execute_result",
          "data": {
            "text/plain": [
              "(10000,)"
            ]
          },
          "metadata": {},
          "execution_count": 7
        }
      ]
    },
    {
      "cell_type": "code",
      "source": [
        "y_test[10]"
      ],
      "metadata": {
        "execution": {
          "iopub.status.busy": "2024-06-13T12:56:25.070171Z",
          "iopub.execute_input": "2024-06-13T12:56:25.070485Z",
          "iopub.status.idle": "2024-06-13T12:56:25.07648Z",
          "shell.execute_reply.started": "2024-06-13T12:56:25.070455Z",
          "shell.execute_reply": "2024-06-13T12:56:25.075476Z"
        },
        "trusted": true,
        "id": "1y6YgPrRwO4M",
        "outputId": "de90b02b-28fb-48d5-dcd9-d714dbd80fdb",
        "colab": {
          "base_uri": "https://localhost:8080/"
        }
      },
      "execution_count": 8,
      "outputs": [
        {
          "output_type": "execute_result",
          "data": {
            "text/plain": [
              "0"
            ]
          },
          "metadata": {},
          "execution_count": 8
        }
      ]
    },
    {
      "cell_type": "code",
      "source": [
        "plt.figure(figsize = (10, 10))\n",
        "random_ids = np.random.choice(60000, 36)\n",
        "for i in range(36):\n",
        "    plt.subplot(6,6, i+1)\n",
        "    plt.xticks([])\n",
        "    plt.yticks([])\n",
        "    plt.grid(False)\n",
        "    image_id = random_ids[i]\n",
        "    plt.imshow(np.squeeze(X_train[image_id]), cmap = plt.cm.binary)\n",
        "    plt.xlabel(train_labels[image_id])"
      ],
      "metadata": {
        "execution": {
          "iopub.status.busy": "2024-06-13T12:56:25.080705Z",
          "iopub.execute_input": "2024-06-13T12:56:25.081265Z",
          "iopub.status.idle": "2024-06-13T12:56:26.84617Z",
          "shell.execute_reply.started": "2024-06-13T12:56:25.081239Z",
          "shell.execute_reply": "2024-06-13T12:56:26.845248Z"
        },
        "trusted": true,
        "id": "UnaHiWNXwO4N",
        "outputId": "a27ea26d-5e69-41ab-d85c-981a1791c0d0",
        "colab": {
          "base_uri": "https://localhost:8080/",
          "height": 826
        }
      },
      "execution_count": 9,
      "outputs": [
        {
          "output_type": "display_data",
          "data": {
            "text/plain": [
              "<Figure size 1000x1000 with 36 Axes>"
            ],
            "image/png": "[encoded data removed]"
          },
          "metadata": {}
        }
      ]
    },
    {
      "cell_type": "code",
      "source": [
        "def build_ann_model():\n",
        "    model = tf.keras.Sequential([\n",
        "        tf.keras.layers.Flatten(),\n",
        "        tf.keras.layers.Dense(128, activation=\"relu\"),\n",
        "        tf.keras.layers.Dense(64, activation = \"relu\"),\n",
        "        tf.keras.layers.Dense(10, activation  = \"softmax\")\n",
        "    ])\n",
        "    return model\n",
        "\n",
        "sequential_model = build_ann_model()"
      ],
      "metadata": {
        "execution": {
          "iopub.status.busy": "2024-06-13T12:56:26.847554Z",
          "iopub.execute_input": "2024-06-13T12:56:26.847891Z",
          "iopub.status.idle": "2024-06-13T12:56:26.858776Z",
          "shell.execute_reply.started": "2024-06-13T12:56:26.84785Z",
          "shell.execute_reply": "2024-06-13T12:56:26.857759Z"
        },
        "trusted": true,
        "id": "x8dQDCCSwO4N"
      },
      "execution_count": 10,
      "outputs": []
    },
    {
      "cell_type": "code",
      "source": [
        "sequential_model.compile(optimizer=tf.keras.optimizers.SGD(learning_rate = 1e-1),\n",
        "                        loss = 'sparse_categorical_crossentropy',\n",
        "                        metrics=['accuracy'])"
      ],
      "metadata": {
        "execution": {
          "iopub.status.busy": "2024-06-13T12:56:26.860111Z",
          "iopub.execute_input": "2024-06-13T12:56:26.860416Z",
          "iopub.status.idle": "2024-06-13T12:56:26.872152Z",
          "shell.execute_reply.started": "2024-06-13T12:56:26.860391Z",
          "shell.execute_reply": "2024-06-13T12:56:26.871203Z"
        },
        "trusted": true,
        "id": "3Nds2G5jwO4N"
      },
      "execution_count": 11,
      "outputs": []
    },
    {
      "cell_type": "code",
      "source": [
        "sequential_model.fit(X_train, train_labels, batch_size = 32, epochs = 20)"
      ],
      "metadata": {
        "execution": {
          "iopub.status.busy": "2024-06-13T12:56:26.87339Z",
          "iopub.execute_input": "2024-06-13T12:56:26.873943Z",
          "iopub.status.idle": "2024-06-13T12:57:26.575202Z",
          "shell.execute_reply.started": "2024-06-13T12:56:26.873909Z",
          "shell.execute_reply": "2024-06-13T12:57:26.574242Z"
        },
        "trusted": true,
        "id": "JoU8CcMbwO4N",
        "outputId": "3042a94b-81ef-4cf0-9098-fb24645d86a3",
        "colab": {
          "base_uri": "https://localhost:8080/"
        }
      },
      "execution_count": 12,
      "outputs": [
        {
          "output_type": "stream",
          "name": "stdout",
          "text": [
            "Epoch 1/20\n",
            "1875/1875 [==============================] - 7s 3ms/step - loss: 0.2650 - accuracy: 0.9205\n",
            "Epoch 2/20\n",
            "1875/1875 [==============================] - 6s 3ms/step - loss: 0.1162 - accuracy: 0.9645\n",
            "Epoch 3/20\n",
            "1875/1875 [==============================] - 5s 3ms/step - loss: 0.0814 - accuracy: 0.9751\n",
            "Epoch 4/20\n",
            "1875/1875 [==============================] - 6s 3ms/step - loss: 0.0638 - accuracy: 0.9799\n",
            "Epoch 5/20\n",
            "1875/1875 [==============================] - 5s 3ms/step - loss: 0.0502 - accuracy: 0.9845\n",
            "Epoch 6/20\n",
            "1875/1875 [==============================] - 6s 3ms/step - loss: 0.0406 - accuracy: 0.9871\n",
            "Epoch 7/20\n",
            "1875/1875 [==============================] - 6s 3ms/step - loss: 0.0325 - accuracy: 0.9899\n",
            "Epoch 8/20\n",
            "1875/1875 [==============================] - 5s 3ms/step - loss: 0.0268 - accuracy: 0.9915\n",
            "Epoch 9/20\n",
            "1875/1875 [==============================] - 6s 3ms/step - loss: 0.0210 - accuracy: 0.9937\n",
            "Epoch 10/20\n",
            "1875/1875 [==============================] - 5s 3ms/step - loss: 0.0155 - accuracy: 0.9955\n",
            "Epoch 11/20\n",
            "1875/1875 [==============================] - 6s 3ms/step - loss: 0.0131 - accuracy: 0.9960\n",
            "Epoch 12/20\n",
            "1875/1875 [==============================] - 5s 3ms/step - loss: 0.0101 - accuracy: 0.9972\n",
            "Epoch 13/20\n",
            "1875/1875 [==============================] - 5s 3ms/step - loss: 0.0082 - accuracy: 0.9980\n",
            "Epoch 14/20\n",
            "1875/1875 [==============================] - 6s 3ms/step - loss: 0.0062 - accuracy: 0.9985\n",
            "Epoch 15/20\n",
            "1875/1875 [==============================] - 5s 3ms/step - loss: 0.0042 - accuracy: 0.9991\n",
            "Epoch 16/20\n",
            "1875/1875 [==============================] - 8s 4ms/step - loss: 0.0025 - accuracy: 0.9996\n",
            "Epoch 17/20\n",
            "1875/1875 [==============================] - 5s 3ms/step - loss: 0.0015 - accuracy: 0.9999\n",
            "Epoch 18/20\n",
            "1875/1875 [==============================] - 6s 3ms/step - loss: 9.5962e-04 - accuracy: 1.0000\n",
            "Epoch 19/20\n",
            "1875/1875 [==============================] - 5s 3ms/step - loss: 8.2758e-04 - accuracy: 1.0000\n",
            "Epoch 20/20\n",
            "1875/1875 [==============================] - 6s 3ms/step - loss: 6.8154e-04 - accuracy: 1.0000\n"
          ]
        },
        {
          "output_type": "execute_result",
          "data": {
            "text/plain": [
              "<keras.src.callbacks.History at 0x7e3ebd9c2800>"
            ]
          },
          "metadata": {},
          "execution_count": 12
        }
      ]
    },
    {
      "cell_type": "code",
      "source": [
        "loss1 , accuracy1 = sequential_model.evaluate(X_test, y_test)\n",
        "loss1, accuracy1"
      ],
      "metadata": {
        "execution": {
          "iopub.status.busy": "2024-06-13T12:57:26.576476Z",
          "iopub.execute_input": "2024-06-13T12:57:26.576758Z",
          "iopub.status.idle": "2024-06-13T12:57:27.681382Z",
          "shell.execute_reply.started": "2024-06-13T12:57:26.576731Z",
          "shell.execute_reply": "2024-06-13T12:57:27.680387Z"
        },
        "trusted": true,
        "id": "cVrobj0BwO4O",
        "outputId": "cb99acac-d164-4377-d172-4a65d271acbc",
        "colab": {
          "base_uri": "https://localhost:8080/"
        }
      },
      "execution_count": 13,
      "outputs": [
        {
          "output_type": "stream",
          "name": "stdout",
          "text": [
            "313/313 [==============================] - 1s 2ms/step - loss: 0.0803 - accuracy: 0.9815\n"
          ]
        },
        {
          "output_type": "execute_result",
          "data": {
            "text/plain": [
              "(0.0803363174200058, 0.9815000295639038)"
            ]
          },
          "metadata": {},
          "execution_count": 13
        }
      ]
    },
    {
      "cell_type": "code",
      "source": [
        "X_train.shape"
      ],
      "metadata": {
        "execution": {
          "iopub.status.busy": "2024-06-13T12:57:27.682915Z",
          "iopub.execute_input": "2024-06-13T12:57:27.68339Z",
          "iopub.status.idle": "2024-06-13T12:57:27.689784Z",
          "shell.execute_reply.started": "2024-06-13T12:57:27.683354Z",
          "shell.execute_reply": "2024-06-13T12:57:27.6887Z"
        },
        "trusted": true,
        "id": "4SLkGno-wO4O",
        "outputId": "9ff50312-1280-478d-b9e7-86a93ca56107",
        "colab": {
          "base_uri": "https://localhost:8080/"
        }
      },
      "execution_count": 14,
      "outputs": [
        {
          "output_type": "execute_result",
          "data": {
            "text/plain": [
              "(60000, 28, 28, 1)"
            ]
          },
          "metadata": {},
          "execution_count": 14
        }
      ]
    },
    {
      "cell_type": "markdown",
      "source": [
        "# Convolutional Neural Network"
      ],
      "metadata": {
        "id": "ww2U7igZwO4O"
      }
    },
    {
      "cell_type": "code",
      "source": [
        "def build_cnn_model():\n",
        "    cnn_model = tf.keras.Sequential([\n",
        "        tf.keras.layers.InputLayer(input_shape=(28, 28, 1)),\n",
        "        # 28, 28 ,1\n",
        "        tf.keras.layers.Conv2D(filters = 16, kernel_size = (3,3), activation = tf.nn.relu ),\n",
        "        # 26, 26, 16\n",
        "        tf.keras.layers.MaxPool2D(pool_size=(2,2)),\n",
        "        # 13, 13, 16\n",
        "        tf.keras.layers.Conv2D(filters = 32, kernel_size = (5,5), activation = tf.nn.relu),\n",
        "        # 9, 9, 32\n",
        "        tf.keras.layers.MaxPool2D(pool_size=(2,2)),\n",
        "        # 4, 4, 32\n",
        "        tf.keras.layers.Flatten(),\n",
        "        # 4*4*32 = 512\n",
        "        tf.keras.layers.Dense(128, activation=tf.nn.relu),\n",
        "        # 128\n",
        "        tf.keras.layers.Dense(10, activation = tf.nn.softmax)\n",
        "    ])\n",
        "    return cnn_model\n",
        "\n",
        "basic_cnn_model = build_cnn_model()\n",
        ""
      ],
      "metadata": {
        "execution": {
          "iopub.status.busy": "2024-06-13T12:57:27.691193Z",
          "iopub.execute_input": "2024-06-13T12:57:27.691511Z",
          "iopub.status.idle": "2024-06-13T12:57:27.737736Z",
          "shell.execute_reply.started": "2024-06-13T12:57:27.691483Z",
          "shell.execute_reply": "2024-06-13T12:57:27.736982Z"
        },
        "trusted": true,
        "id": "_GYZzlv9wO4P"
      },
      "execution_count": 15,
      "outputs": []
    },
    {
      "cell_type": "code",
      "source": [
        "basic_cnn_model.compile(optimizer='adam', loss='sparse_categorical_crossentropy', metrics=['accuracy'])\n"
      ],
      "metadata": {
        "execution": {
          "iopub.status.busy": "2024-06-13T12:57:27.738711Z",
          "iopub.execute_input": "2024-06-13T12:57:27.738974Z",
          "iopub.status.idle": "2024-06-13T12:57:27.747358Z",
          "shell.execute_reply.started": "2024-06-13T12:57:27.73895Z",
          "shell.execute_reply": "2024-06-13T12:57:27.746442Z"
        },
        "trusted": true,
        "id": "dJqiuYi0wO4Q"
      },
      "execution_count": 16,
      "outputs": []
    },
    {
      "cell_type": "code",
      "source": [
        "basic_cnn_model.fit(X_train, train_labels, batch_size = 32, epochs = 20)"
      ],
      "metadata": {
        "execution": {
          "iopub.status.busy": "2024-06-13T12:57:27.748398Z",
          "iopub.execute_input": "2024-06-13T12:57:27.74867Z",
          "iopub.status.idle": "2024-06-13T12:58:50.437313Z",
          "shell.execute_reply.started": "2024-06-13T12:57:27.748647Z",
          "shell.execute_reply": "2024-06-13T12:58:50.436333Z"
        },
        "trusted": true,
        "id": "TQ19pr6XwO4Q",
        "outputId": "00ed0432-72a8-4555-ad5c-7f1507cb5cfe",
        "colab": {
          "base_uri": "https://localhost:8080/"
        }
      },
      "execution_count": 17,
      "outputs": [
        {
          "output_type": "stream",
          "name": "stdout",
          "text": [
            "Epoch 1/20\n",
            "1875/1875 [==============================] - 11s 4ms/step - loss: 0.1514 - accuracy: 0.9534\n",
            "Epoch 2/20\n",
            "1875/1875 [==============================] - 7s 4ms/step - loss: 0.0481 - accuracy: 0.9848\n",
            "Epoch 3/20\n",
            "1875/1875 [==============================] - 7s 4ms/step - loss: 0.0335 - accuracy: 0.9892\n",
            "Epoch 4/20\n",
            "1875/1875 [==============================] - 8s 4ms/step - loss: 0.0247 - accuracy: 0.9918\n",
            "Epoch 5/20\n",
            "1875/1875 [==============================] - 7s 4ms/step - loss: 0.0192 - accuracy: 0.9937\n",
            "Epoch 6/20\n",
            "1875/1875 [==============================] - 8s 4ms/step - loss: 0.0149 - accuracy: 0.9952\n",
            "Epoch 7/20\n",
            "1875/1875 [==============================] - 7s 4ms/step - loss: 0.0124 - accuracy: 0.9961\n",
            "Epoch 8/20\n",
            "1875/1875 [==============================] - 7s 4ms/step - loss: 0.0107 - accuracy: 0.9965\n",
            "Epoch 9/20\n",
            "1875/1875 [==============================] - 7s 3ms/step - loss: 0.0089 - accuracy: 0.9971\n",
            "Epoch 10/20\n",
            "1875/1875 [==============================] - 7s 4ms/step - loss: 0.0075 - accuracy: 0.9974\n",
            "Epoch 11/20\n",
            "1875/1875 [==============================] - 7s 4ms/step - loss: 0.0067 - accuracy: 0.9979\n",
            "Epoch 12/20\n",
            "1875/1875 [==============================] - 7s 4ms/step - loss: 0.0061 - accuracy: 0.9982\n",
            "Epoch 13/20\n",
            "1875/1875 [==============================] - 8s 4ms/step - loss: 0.0066 - accuracy: 0.9977\n",
            "Epoch 14/20\n",
            "1875/1875 [==============================] - 6s 3ms/step - loss: 0.0051 - accuracy: 0.9982\n",
            "Epoch 15/20\n",
            "1875/1875 [==============================] - 8s 4ms/step - loss: 0.0045 - accuracy: 0.9985\n",
            "Epoch 16/20\n",
            "1875/1875 [==============================] - 7s 3ms/step - loss: 0.0042 - accuracy: 0.9985\n",
            "Epoch 17/20\n",
            "1875/1875 [==============================] - 7s 4ms/step - loss: 0.0044 - accuracy: 0.9984\n",
            "Epoch 18/20\n",
            "1875/1875 [==============================] - 6s 3ms/step - loss: 0.0041 - accuracy: 0.9988\n",
            "Epoch 19/20\n",
            "1875/1875 [==============================] - 7s 4ms/step - loss: 0.0050 - accuracy: 0.9984\n",
            "Epoch 20/20\n",
            "1875/1875 [==============================] - 6s 3ms/step - loss: 0.0028 - accuracy: 0.9991\n"
          ]
        },
        {
          "output_type": "execute_result",
          "data": {
            "text/plain": [
              "<keras.src.callbacks.History at 0x7e3ea8621780>"
            ]
          },
          "metadata": {},
          "execution_count": 17
        }
      ]
    },
    {
      "cell_type": "code",
      "source": [
        "basic_cnn_model.summary()"
      ],
      "metadata": {
        "execution": {
          "iopub.status.busy": "2024-06-13T12:58:50.438766Z",
          "iopub.execute_input": "2024-06-13T12:58:50.439154Z",
          "iopub.status.idle": "2024-06-13T12:58:50.469095Z",
          "shell.execute_reply.started": "2024-06-13T12:58:50.43912Z",
          "shell.execute_reply": "2024-06-13T12:58:50.468159Z"
        },
        "trusted": true,
        "id": "5Df2r7zawO4Q",
        "outputId": "f1799695-4cc3-4032-a04c-5da7725cb97b",
        "colab": {
          "base_uri": "https://localhost:8080/"
        }
      },
      "execution_count": 18,
      "outputs": [
        {
          "output_type": "stream",
          "name": "stdout",
          "text": [
            "Model: \"sequential_1\"\n",
            "_________________________________________________________________\n",
            " Layer (type)                Output Shape              Param #   \n",
            "=================================================================\n",
            " conv2d (Conv2D)             (None, 26, 26, 16)        160       \n",
            "                                                                 \n",
            " max_pooling2d (MaxPooling2  (None, 13, 13, 16)        0         \n",
            " D)                                                              \n",
            "                                                                 \n",
            " conv2d_1 (Conv2D)           (None, 9, 9, 32)          12832     \n",
            "                                                                 \n",
            " max_pooling2d_1 (MaxPoolin  (None, 4, 4, 32)          0         \n",
            " g2D)                                                            \n",
            "                                                                 \n",
            " flatten_1 (Flatten)         (None, 512)               0         \n",
            "                                                                 \n",
            " dense_3 (Dense)             (None, 128)               65664     \n",
            "                                                                 \n",
            " dense_4 (Dense)             (None, 10)                1290      \n",
            "                                                                 \n",
            "=================================================================\n",
            "Total params: 79946 (312.29 KB)\n",
            "Trainable params: 79946 (312.29 KB)\n",
            "Non-trainable params: 0 (0.00 Byte)\n",
            "_________________________________________________________________\n"
          ]
        }
      ]
    },
    {
      "cell_type": "code",
      "source": [
        "loss2, accuracy2 = basic_cnn_model.evaluate(X_test, y_test)\n",
        "loss2, accuracy2"
      ],
      "metadata": {
        "execution": {
          "iopub.status.busy": "2024-06-13T12:58:50.470358Z",
          "iopub.execute_input": "2024-06-13T12:58:50.470758Z",
          "iopub.status.idle": "2024-06-13T12:58:51.747907Z",
          "shell.execute_reply.started": "2024-06-13T12:58:50.47073Z",
          "shell.execute_reply": "2024-06-13T12:58:51.746908Z"
        },
        "trusted": true,
        "id": "Ii1lIykPwO4R",
        "outputId": "a1db345b-a6d1-4906-c7ef-4db2f626d84a",
        "colab": {
          "base_uri": "https://localhost:8080/"
        }
      },
      "execution_count": 19,
      "outputs": [
        {
          "output_type": "stream",
          "name": "stdout",
          "text": [
            "313/313 [==============================] - 1s 3ms/step - loss: 0.0526 - accuracy: 0.9907\n"
          ]
        },
        {
          "output_type": "execute_result",
          "data": {
            "text/plain": [
              "(0.05263310670852661, 0.9907000064849854)"
            ]
          },
          "metadata": {},
          "execution_count": 19
        }
      ]
    },
    {
      "cell_type": "code",
      "source": [
        "def build_powerful_cnn_model():\n",
        "    cnn_model = tf.keras.Sequential([\n",
        "        # Define input shape explicitly\n",
        "        tf.keras.layers.InputLayer(input_shape=(28, 28, 1)),\n",
        "\n",
        "        # First Convolutional Block\n",
        "        # 28, 28, 1 -> 26, 26, 16\n",
        "        tf.keras.layers.Conv2D(filters=16, kernel_size=(3, 3), activation='relu'),\n",
        "        tf.keras.layers.BatchNormalization(),\n",
        "        tf.keras.layers.MaxPool2D(pool_size=(2, 2)),\n",
        "        tf.keras.layers.Dropout(0.25),\n",
        "\n",
        "        # Second Convolutional Block\n",
        "        # 13, 13, 16 -> 9, 9, 32\n",
        "        tf.keras.layers.Conv2D(filters=32, kernel_size=(5, 5), activation='relu'),\n",
        "        tf.keras.layers.BatchNormalization(),\n",
        "        tf.keras.layers.MaxPool2D(pool_size=(2, 2)),\n",
        "        tf.keras.layers.Dropout(0.25),\n",
        "\n",
        "        # Flatten Layer: 4, 4, 32 -> 512\n",
        "        tf.keras.layers.Flatten(),\n",
        "\n",
        "        # Fully Connected Block\n",
        "        # Dense Layer: 512 -> 128\n",
        "        tf.keras.layers.Dense(128, activation='relu'),\n",
        "        tf.keras.layers.BatchNormalization(),\n",
        "        tf.keras.layers.Dropout(0.5),\n",
        "\n",
        "        # Output Layer: 128 -> 10\n",
        "        tf.keras.layers.Dense(10, activation='softmax')\n",
        "    ])\n",
        "    return cnn_model\n",
        "\n",
        "# Build the model\n",
        "powerful_cnn_model = build_powerful_cnn_model()\n",
        "\n",
        "# Compile the model\n",
        "powerful_cnn_model.compile(optimizer='adam', loss='sparse_categorical_crossentropy', metrics=['accuracy'])\n",
        "\n",
        "# Fit the model on the training data\n",
        "powerful_cnn_model.fit(X_train, train_labels, batch_size=32, epochs=20)\n"
      ],
      "metadata": {
        "execution": {
          "iopub.status.busy": "2024-06-13T12:58:51.749435Z",
          "iopub.execute_input": "2024-06-13T12:58:51.749812Z",
          "iopub.status.idle": "2024-06-13T13:00:35.986931Z",
          "shell.execute_reply.started": "2024-06-13T12:58:51.749776Z",
          "shell.execute_reply": "2024-06-13T13:00:35.98608Z"
        },
        "trusted": true,
        "id": "wiJCXM_WwO4R",
        "outputId": "c60940da-6e0f-447d-b9f0-2a5f3345587f",
        "colab": {
          "base_uri": "https://localhost:8080/"
        }
      },
      "execution_count": 20,
      "outputs": [
        {
          "output_type": "stream",
          "name": "stdout",
          "text": [
            "Epoch 1/20\n",
            "1875/1875 [==============================] - 14s 5ms/step - loss: 0.2707 - accuracy: 0.9166\n",
            "Epoch 2/20\n",
            "1875/1875 [==============================] - 9s 5ms/step - loss: 0.1118 - accuracy: 0.9660\n",
            "Epoch 3/20\n",
            "1875/1875 [==============================] - 10s 5ms/step - loss: 0.0890 - accuracy: 0.9725\n",
            "Epoch 4/20\n",
            "1875/1875 [==============================] - 10s 5ms/step - loss: 0.0769 - accuracy: 0.9763\n",
            "Epoch 5/20\n",
            "1875/1875 [==============================] - 9s 5ms/step - loss: 0.0686 - accuracy: 0.9782\n",
            "Epoch 6/20\n",
            "1875/1875 [==============================] - 9s 5ms/step - loss: 0.0614 - accuracy: 0.9809\n",
            "Epoch 7/20\n",
            "1875/1875 [==============================] - 10s 5ms/step - loss: 0.0566 - accuracy: 0.9820\n",
            "Epoch 8/20\n",
            "1875/1875 [==============================] - 10s 5ms/step - loss: 0.0532 - accuracy: 0.9838\n",
            "Epoch 9/20\n",
            "1875/1875 [==============================] - 9s 5ms/step - loss: 0.0517 - accuracy: 0.9842\n",
            "Epoch 10/20\n",
            "1875/1875 [==============================] - 10s 5ms/step - loss: 0.0492 - accuracy: 0.9848\n",
            "Epoch 11/20\n",
            "1875/1875 [==============================] - 10s 5ms/step - loss: 0.0479 - accuracy: 0.9852\n",
            "Epoch 12/20\n",
            "1875/1875 [==============================] - 10s 5ms/step - loss: 0.0470 - accuracy: 0.9858\n",
            "Epoch 13/20\n",
            "1875/1875 [==============================] - 9s 5ms/step - loss: 0.0434 - accuracy: 0.9869\n",
            "Epoch 14/20\n",
            "1875/1875 [==============================] - 10s 5ms/step - loss: 0.0447 - accuracy: 0.9863\n",
            "Epoch 15/20\n",
            "1875/1875 [==============================] - 9s 5ms/step - loss: 0.0409 - accuracy: 0.9872\n",
            "Epoch 16/20\n",
            "1875/1875 [==============================] - 9s 5ms/step - loss: 0.0419 - accuracy: 0.9870\n",
            "Epoch 17/20\n",
            "1875/1875 [==============================] - 9s 5ms/step - loss: 0.0395 - accuracy: 0.9873\n",
            "Epoch 18/20\n",
            "1875/1875 [==============================] - 9s 5ms/step - loss: 0.0389 - accuracy: 0.9880\n",
            "Epoch 19/20\n",
            "1875/1875 [==============================] - 10s 5ms/step - loss: 0.0391 - accuracy: 0.9883\n",
            "Epoch 20/20\n",
            "1875/1875 [==============================] - 9s 5ms/step - loss: 0.0364 - accuracy: 0.9888\n"
          ]
        },
        {
          "output_type": "execute_result",
          "data": {
            "text/plain": [
              "<keras.src.callbacks.History at 0x7e3ea842f910>"
            ]
          },
          "metadata": {},
          "execution_count": 20
        }
      ]
    },
    {
      "cell_type": "code",
      "source": [
        "powerful_cnn_model.summary()"
      ],
      "metadata": {
        "execution": {
          "iopub.status.busy": "2024-06-13T13:00:35.988025Z",
          "iopub.execute_input": "2024-06-13T13:00:35.988311Z",
          "iopub.status.idle": "2024-06-13T13:00:36.020165Z",
          "shell.execute_reply.started": "2024-06-13T13:00:35.988288Z",
          "shell.execute_reply": "2024-06-13T13:00:36.019337Z"
        },
        "trusted": true,
        "id": "nFIPyAaNwO4R",
        "outputId": "140bb0e1-2b0a-4756-8ecf-037976a744dd",
        "colab": {
          "base_uri": "https://localhost:8080/"
        }
      },
      "execution_count": 21,
      "outputs": [
        {
          "output_type": "stream",
          "name": "stdout",
          "text": [
            "Model: \"sequential_2\"\n",
            "_________________________________________________________________\n",
            " Layer (type)                Output Shape              Param #   \n",
            "=================================================================\n",
            " conv2d_2 (Conv2D)           (None, 26, 26, 16)        160       \n",
            "                                                                 \n",
            " batch_normalization (Batch  (None, 26, 26, 16)        64        \n",
            " Normalization)                                                  \n",
            "                                                                 \n",
            " max_pooling2d_2 (MaxPoolin  (None, 13, 13, 16)        0         \n",
            " g2D)                                                            \n",
            "                                                                 \n",
            " dropout (Dropout)           (None, 13, 13, 16)        0         \n",
            "                                                                 \n",
            " conv2d_3 (Conv2D)           (None, 9, 9, 32)          12832     \n",
            "                                                                 \n",
            " batch_normalization_1 (Bat  (None, 9, 9, 32)          128       \n",
            " chNormalization)                                                \n",
            "                                                                 \n",
            " max_pooling2d_3 (MaxPoolin  (None, 4, 4, 32)          0         \n",
            " g2D)                                                            \n",
            "                                                                 \n",
            " dropout_1 (Dropout)         (None, 4, 4, 32)          0         \n",
            "                                                                 \n",
            " flatten_2 (Flatten)         (None, 512)               0         \n",
            "                                                                 \n",
            " dense_5 (Dense)             (None, 128)               65664     \n",
            "                                                                 \n",
            " batch_normalization_2 (Bat  (None, 128)               512       \n",
            " chNormalization)                                                \n",
            "                                                                 \n",
            " dropout_2 (Dropout)         (None, 128)               0         \n",
            "                                                                 \n",
            " dense_6 (Dense)             (None, 10)                1290      \n",
            "                                                                 \n",
            "=================================================================\n",
            "Total params: 80650 (315.04 KB)\n",
            "Trainable params: 80298 (313.66 KB)\n",
            "Non-trainable params: 352 (1.38 KB)\n",
            "_________________________________________________________________\n"
          ]
        }
      ]
    },
    {
      "cell_type": "code",
      "source": [
        "loss3, accuracy3 = powerful_cnn_model.evaluate(X_test, y_test)\n",
        "loss3, accuracy3"
      ],
      "metadata": {
        "execution": {
          "iopub.status.busy": "2024-06-13T13:00:36.021061Z",
          "iopub.execute_input": "2024-06-13T13:00:36.0213Z",
          "iopub.status.idle": "2024-06-13T13:00:37.4332Z",
          "shell.execute_reply.started": "2024-06-13T13:00:36.021277Z",
          "shell.execute_reply": "2024-06-13T13:00:37.432254Z"
        },
        "trusted": true,
        "id": "YyMdvT72wO4R",
        "outputId": "44691ed7-9e52-4238-9476-688eaee128d4",
        "colab": {
          "base_uri": "https://localhost:8080/"
        }
      },
      "execution_count": 22,
      "outputs": [
        {
          "output_type": "stream",
          "name": "stdout",
          "text": [
            "313/313 [==============================] - 1s 3ms/step - loss: 0.0205 - accuracy: 0.9930\n"
          ]
        },
        {
          "output_type": "execute_result",
          "data": {
            "text/plain": [
              "(0.020471032708883286, 0.9929999709129333)"
            ]
          },
          "metadata": {},
          "execution_count": 22
        }
      ]
    },
    {
      "cell_type": "markdown",
      "source": [
        "# Alex Net"
      ],
      "metadata": {
        "id": "Iwh-qmFywO4S"
      }
    },
    {
      "cell_type": "code",
      "source": [
        "def build_alexnet_model(input_shape, num_classes):\n",
        "    model = tf.keras.Sequential([\n",
        "        # 1st Convolutional Layer\n",
        "        tf.keras.layers.Conv2D(filters=32, kernel_size=(3, 3), strides=(1, 1), activation='relu', input_shape=input_shape),\n",
        "        tf.keras.layers.BatchNormalization(),\n",
        "        tf.keras.layers.MaxPool2D(pool_size=(2, 2), strides=(2, 2)),\n",
        "\n",
        "        # 2nd Convolutional Layer\n",
        "        tf.keras.layers.Conv2D(filters=64, kernel_size=(3, 3), padding='same', activation='relu'),\n",
        "        tf.keras.layers.BatchNormalization(),\n",
        "        tf.keras.layers.MaxPool2D(pool_size=(2, 2), strides=(2, 2)),\n",
        "\n",
        "        # 3rd Convolutional Layer\n",
        "        tf.keras.layers.Conv2D(filters=128, kernel_size=(3, 3), padding='same', activation='relu'),\n",
        "        tf.keras.layers.BatchNormalization(),\n",
        "\n",
        "        # 4th Convolutional Layer\n",
        "        tf.keras.layers.Conv2D(filters=128, kernel_size=(3, 3), padding='same', activation='relu'),\n",
        "        tf.keras.layers.BatchNormalization(),\n",
        "\n",
        "        # 5th Convolutional Layer\n",
        "        tf.keras.layers.Conv2D(filters=64, kernel_size=(3, 3), padding='same', activation='relu'),\n",
        "        tf.keras.layers.BatchNormalization(),\n",
        "        tf.keras.layers.MaxPool2D(pool_size=(2, 2), strides=(2, 2)),\n",
        "\n",
        "        # Flattening Layer\n",
        "        tf.keras.layers.Flatten(),\n",
        "\n",
        "        # 1st Fully Connected Layer\n",
        "        tf.keras.layers.Dense(1024, activation='relu'),\n",
        "        tf.keras.layers.BatchNormalization(),\n",
        "        tf.keras.layers.Dropout(0.5),\n",
        "\n",
        "        # 2nd Fully Connected Layer\n",
        "        tf.keras.layers.Dense(512, activation='relu'),\n",
        "        tf.keras.layers.BatchNormalization(),\n",
        "        tf.keras.layers.Dropout(0.5),\n",
        "\n",
        "        # Output Layer\n",
        "        tf.keras.layers.Dense(num_classes, activation='softmax')\n",
        "    ])\n",
        "\n",
        "    return model\n",
        "\n",
        "\n",
        "input_shape = (28, 28, 1)\n",
        "num_classes = 10\n",
        "alexnet_model = build_alexnet_model(input_shape, num_classes)\n"
      ],
      "metadata": {
        "execution": {
          "iopub.status.busy": "2024-06-13T13:00:37.435992Z",
          "iopub.execute_input": "2024-06-13T13:00:37.436807Z",
          "iopub.status.idle": "2024-06-13T13:00:37.57339Z",
          "shell.execute_reply.started": "2024-06-13T13:00:37.436778Z",
          "shell.execute_reply": "2024-06-13T13:00:37.572596Z"
        },
        "trusted": true,
        "id": "49ciiRtuwO4S"
      },
      "execution_count": 23,
      "outputs": []
    },
    {
      "cell_type": "code",
      "source": [
        "alexnet_model.compile(optimizer='adam',\n",
        "                      loss='sparse_categorical_crossentropy',\n",
        "                      metrics=['accuracy'])"
      ],
      "metadata": {
        "execution": {
          "iopub.status.busy": "2024-06-13T13:00:37.57447Z",
          "iopub.execute_input": "2024-06-13T13:00:37.574735Z",
          "iopub.status.idle": "2024-06-13T13:00:37.582778Z",
          "shell.execute_reply.started": "2024-06-13T13:00:37.574711Z",
          "shell.execute_reply": "2024-06-13T13:00:37.581921Z"
        },
        "trusted": true,
        "id": "9ex1CQvtwO4T"
      },
      "execution_count": 24,
      "outputs": []
    },
    {
      "cell_type": "code",
      "source": [
        "alexnet_model.fit(X_train, train_labels, batch_size=32, epochs=20, validation_split=0.2)"
      ],
      "metadata": {
        "execution": {
          "iopub.status.busy": "2024-06-13T13:00:37.58415Z",
          "iopub.execute_input": "2024-06-13T13:00:37.584802Z",
          "iopub.status.idle": "2024-06-13T13:03:00.971086Z",
          "shell.execute_reply.started": "2024-06-13T13:00:37.584768Z",
          "shell.execute_reply": "2024-06-13T13:03:00.969956Z"
        },
        "trusted": true,
        "id": "7qxyUPHFwO4U",
        "outputId": "fe786fc6-5063-478b-cc7f-3cbda580cd86",
        "colab": {
          "base_uri": "https://localhost:8080/"
        }
      },
      "execution_count": 25,
      "outputs": [
        {
          "output_type": "stream",
          "name": "stdout",
          "text": [
            "Epoch 1/20\n",
            "1500/1500 [==============================] - 18s 8ms/step - loss: 0.1750 - accuracy: 0.9495 - val_loss: 0.0781 - val_accuracy: 0.9760\n",
            "Epoch 2/20\n",
            "1500/1500 [==============================] - 13s 8ms/step - loss: 0.0753 - accuracy: 0.9776 - val_loss: 0.0524 - val_accuracy: 0.9840\n",
            "Epoch 3/20\n",
            "1500/1500 [==============================] - 12s 8ms/step - loss: 0.0606 - accuracy: 0.9821 - val_loss: 0.0338 - val_accuracy: 0.9907\n",
            "Epoch 4/20\n",
            "1500/1500 [==============================] - 12s 8ms/step - loss: 0.0525 - accuracy: 0.9849 - val_loss: 0.0455 - val_accuracy: 0.9877\n",
            "Epoch 5/20\n",
            "1500/1500 [==============================] - 12s 8ms/step - loss: 0.0455 - accuracy: 0.9868 - val_loss: 0.0559 - val_accuracy: 0.9840\n",
            "Epoch 6/20\n",
            "1500/1500 [==============================] - 12s 8ms/step - loss: 0.0391 - accuracy: 0.9885 - val_loss: 0.0353 - val_accuracy: 0.9904\n",
            "Epoch 7/20\n",
            "1500/1500 [==============================] - 12s 8ms/step - loss: 0.0319 - accuracy: 0.9904 - val_loss: 0.0563 - val_accuracy: 0.9864\n",
            "Epoch 8/20\n",
            "1500/1500 [==============================] - 12s 8ms/step - loss: 0.0307 - accuracy: 0.9915 - val_loss: 0.0350 - val_accuracy: 0.9908\n",
            "Epoch 9/20\n",
            "1500/1500 [==============================] - 12s 8ms/step - loss: 0.0280 - accuracy: 0.9921 - val_loss: 0.0317 - val_accuracy: 0.9913\n",
            "Epoch 10/20\n",
            "1500/1500 [==============================] - 12s 8ms/step - loss: 0.0221 - accuracy: 0.9936 - val_loss: 0.0317 - val_accuracy: 0.9923\n",
            "Epoch 11/20\n",
            "1500/1500 [==============================] - 12s 8ms/step - loss: 0.0202 - accuracy: 0.9941 - val_loss: 0.0331 - val_accuracy: 0.9926\n",
            "Epoch 12/20\n",
            "1500/1500 [==============================] - 13s 8ms/step - loss: 0.0165 - accuracy: 0.9953 - val_loss: 0.0394 - val_accuracy: 0.9916\n",
            "Epoch 13/20\n",
            "1500/1500 [==============================] - 12s 8ms/step - loss: 0.0179 - accuracy: 0.9952 - val_loss: 0.0412 - val_accuracy: 0.9907\n",
            "Epoch 14/20\n",
            "1500/1500 [==============================] - 13s 8ms/step - loss: 0.0151 - accuracy: 0.9955 - val_loss: 0.0394 - val_accuracy: 0.9923\n",
            "Epoch 15/20\n",
            "1500/1500 [==============================] - 13s 8ms/step - loss: 0.0119 - accuracy: 0.9964 - val_loss: 0.0311 - val_accuracy: 0.9929\n",
            "Epoch 16/20\n",
            "1500/1500 [==============================] - 12s 8ms/step - loss: 0.0126 - accuracy: 0.9962 - val_loss: 0.0362 - val_accuracy: 0.9917\n",
            "Epoch 17/20\n",
            "1500/1500 [==============================] - 12s 8ms/step - loss: 0.0126 - accuracy: 0.9962 - val_loss: 0.0402 - val_accuracy: 0.9919\n",
            "Epoch 18/20\n",
            "1500/1500 [==============================] - 12s 8ms/step - loss: 0.0100 - accuracy: 0.9971 - val_loss: 0.0362 - val_accuracy: 0.9929\n",
            "Epoch 19/20\n",
            "1500/1500 [==============================] - 12s 8ms/step - loss: 0.0110 - accuracy: 0.9969 - val_loss: 0.0466 - val_accuracy: 0.9911\n",
            "Epoch 20/20\n",
            "1500/1500 [==============================] - 13s 9ms/step - loss: 0.0086 - accuracy: 0.9975 - val_loss: 0.0386 - val_accuracy: 0.9931\n"
          ]
        },
        {
          "output_type": "execute_result",
          "data": {
            "text/plain": [
              "<keras.src.callbacks.History at 0x7e3ea82f6920>"
            ]
          },
          "metadata": {},
          "execution_count": 25
        }
      ]
    },
    {
      "cell_type": "code",
      "source": [
        "alexnet_model.summary()"
      ],
      "metadata": {
        "execution": {
          "iopub.status.busy": "2024-06-13T13:03:00.976125Z",
          "iopub.execute_input": "2024-06-13T13:03:00.97647Z",
          "iopub.status.idle": "2024-06-13T13:03:01.015198Z",
          "shell.execute_reply.started": "2024-06-13T13:03:00.97644Z",
          "shell.execute_reply": "2024-06-13T13:03:01.014337Z"
        },
        "trusted": true,
        "id": "DwhXatOiwO4U",
        "outputId": "471ee4b1-c6f2-48d4-b970-d689939965fa",
        "colab": {
          "base_uri": "https://localhost:8080/"
        }
      },
      "execution_count": 26,
      "outputs": [
        {
          "output_type": "stream",
          "name": "stdout",
          "text": [
            "Model: \"sequential_3\"\n",
            "_________________________________________________________________\n",
            " Layer (type)                Output Shape              Param #   \n",
            "=================================================================\n",
            " conv2d_4 (Conv2D)           (None, 26, 26, 32)        320       \n",
            "                                                                 \n",
            " batch_normalization_3 (Bat  (None, 26, 26, 32)        128       \n",
            " chNormalization)                                                \n",
            "                                                                 \n",
            " max_pooling2d_4 (MaxPoolin  (None, 13, 13, 32)        0         \n",
            " g2D)                                                            \n",
            "                                                                 \n",
            " conv2d_5 (Conv2D)           (None, 13, 13, 64)        18496     \n",
            "                                                                 \n",
            " batch_normalization_4 (Bat  (None, 13, 13, 64)        256       \n",
            " chNormalization)                                                \n",
            "                                                                 \n",
            " max_pooling2d_5 (MaxPoolin  (None, 6, 6, 64)          0         \n",
            " g2D)                                                            \n",
            "                                                                 \n",
            " conv2d_6 (Conv2D)           (None, 6, 6, 128)         73856     \n",
            "                                                                 \n",
            " batch_normalization_5 (Bat  (None, 6, 6, 128)         512       \n",
            " chNormalization)                                                \n",
            "                                                                 \n",
            " conv2d_7 (Conv2D)           (None, 6, 6, 128)         147584    \n",
            "                                                                 \n",
            " batch_normalization_6 (Bat  (None, 6, 6, 128)         512       \n",
            " chNormalization)                                                \n",
            "                                                                 \n",
            " conv2d_8 (Conv2D)           (None, 6, 6, 64)          73792     \n",
            "                                                                 \n",
            " batch_normalization_7 (Bat  (None, 6, 6, 64)          256       \n",
            " chNormalization)                                                \n",
            "                                                                 \n",
            " max_pooling2d_6 (MaxPoolin  (None, 3, 3, 64)          0         \n",
            " g2D)                                                            \n",
            "                                                                 \n",
            " flatten_3 (Flatten)         (None, 576)               0         \n",
            "                                                                 \n",
            " dense_7 (Dense)             (None, 1024)              590848    \n",
            "                                                                 \n",
            " batch_normalization_8 (Bat  (None, 1024)              4096      \n",
            " chNormalization)                                                \n",
            "                                                                 \n",
            " dropout_3 (Dropout)         (None, 1024)              0         \n",
            "                                                                 \n",
            " dense_8 (Dense)             (None, 512)               524800    \n",
            "                                                                 \n",
            " batch_normalization_9 (Bat  (None, 512)               2048      \n",
            " chNormalization)                                                \n",
            "                                                                 \n",
            " dropout_4 (Dropout)         (None, 512)               0         \n",
            "                                                                 \n",
            " dense_9 (Dense)             (None, 10)                5130      \n",
            "                                                                 \n",
            "=================================================================\n",
            "Total params: 1442634 (5.50 MB)\n",
            "Trainable params: 1438730 (5.49 MB)\n",
            "Non-trainable params: 3904 (15.25 KB)\n",
            "_________________________________________________________________\n"
          ]
        }
      ]
    },
    {
      "cell_type": "code",
      "source": [
        "loss_alex, accuracy_alex = alexnet_model.evaluate(X_test, y_test)\n",
        "loss_alex, accuracy_alex"
      ],
      "metadata": {
        "execution": {
          "iopub.status.busy": "2024-06-13T13:03:01.016613Z",
          "iopub.execute_input": "2024-06-13T13:03:01.017019Z",
          "iopub.status.idle": "2024-06-13T13:03:02.998982Z",
          "shell.execute_reply.started": "2024-06-13T13:03:01.016986Z",
          "shell.execute_reply": "2024-06-13T13:03:02.997951Z"
        },
        "trusted": true,
        "id": "m8zmEygXwO4V",
        "outputId": "bbe3c785-4eee-4c58-83d8-6051bc172c88",
        "colab": {
          "base_uri": "https://localhost:8080/"
        }
      },
      "execution_count": 27,
      "outputs": [
        {
          "output_type": "stream",
          "name": "stdout",
          "text": [
            "313/313 [==============================] - 2s 4ms/step - loss: 0.0303 - accuracy: 0.9934\n"
          ]
        },
        {
          "output_type": "execute_result",
          "data": {
            "text/plain": [
              "(0.030346959829330444, 0.993399977684021)"
            ]
          },
          "metadata": {},
          "execution_count": 27
        }
      ]
    },
    {
      "cell_type": "markdown",
      "source": [
        "# Inception NET"
      ],
      "metadata": {
        "id": "oY77YheYwO4V"
      }
    },
    {
      "cell_type": "code",
      "source": [
        "def inception_module(prev_layer, filters):\n",
        "    conv1x1 = Conv2D(filters=filters[0], kernel_size=(1, 1), activation='relu')(prev_layer)\n",
        "\n",
        "    conv3x3 = Conv2D(filters=filters[1], kernel_size=(3, 3), padding='same', activation='relu')(prev_layer)\n",
        "\n",
        "    maxpool = MaxPooling2D(pool_size=(3, 3), strides=(1, 1), padding='same')(prev_layer)\n",
        "    maxpool_conv1x1 = Conv2D(filters=filters[2], kernel_size=(1, 1), activation='relu')(maxpool)\n",
        "\n",
        "    return Concatenate(axis=-1)([conv1x1, conv3x3, maxpool_conv1x1])\n",
        "\n",
        "def build_inception_mnist(input_shape, num_classes):\n",
        "    inputs = Input(shape=input_shape)\n",
        "\n",
        "    # Initial Convolution and Pooling Layers\n",
        "    x = Conv2D(filters=32, kernel_size=(3, 3), activation='relu', padding='same')(inputs)\n",
        "    x = MaxPooling2D(pool_size=(2, 2))(x)\n",
        "\n",
        "    # Inception Modules\n",
        "    x = inception_module(x, filters=[16, 32, 8])\n",
        "    x = inception_module(x, filters=[32, 64, 16])\n",
        "\n",
        "    # Global Average Pooling\n",
        "    x = GlobalAveragePooling2D()(x)\n",
        "\n",
        "    # Fully Connected Layers\n",
        "    x = Dense(128, activation='relu')(x)\n",
        "    x = Dropout(0.5)(x)\n",
        "\n",
        "    outputs = Dense(num_classes, activation='softmax')(x)\n",
        "\n",
        "    # Define the model\n",
        "    model = tf.keras.Model(inputs=inputs, outputs=outputs)\n",
        "\n",
        "    return model\n",
        "\n",
        "input_shape = (28, 28, 1)\n",
        "num_classes = 10\n",
        "\n",
        "inception_mnist_model = build_inception_mnist(input_shape, num_classes)\n"
      ],
      "metadata": {
        "execution": {
          "iopub.status.busy": "2024-06-13T13:03:03.000468Z",
          "iopub.execute_input": "2024-06-13T13:03:03.000886Z",
          "iopub.status.idle": "2024-06-13T13:03:03.099754Z",
          "shell.execute_reply.started": "2024-06-13T13:03:03.000844Z",
          "shell.execute_reply": "2024-06-13T13:03:03.09891Z"
        },
        "trusted": true,
        "id": "aeofrFPZwO4W"
      },
      "execution_count": 28,
      "outputs": []
    },
    {
      "cell_type": "code",
      "source": [
        "inception_mnist_model.compile(optimizer='adam',\n",
        "                              loss='sparse_categorical_crossentropy',\n",
        "                              metrics=['accuracy'])"
      ],
      "metadata": {
        "execution": {
          "iopub.status.busy": "2024-06-13T13:03:03.101049Z",
          "iopub.execute_input": "2024-06-13T13:03:03.10146Z",
          "iopub.status.idle": "2024-06-13T13:03:03.110929Z",
          "shell.execute_reply.started": "2024-06-13T13:03:03.101422Z",
          "shell.execute_reply": "2024-06-13T13:03:03.109913Z"
        },
        "trusted": true,
        "id": "3TbVItBywO4W"
      },
      "execution_count": 29,
      "outputs": []
    },
    {
      "cell_type": "code",
      "source": [
        "inception_mnist_model.fit(X_train, train_labels, batch_size = 32, epochs = 20)"
      ],
      "metadata": {
        "execution": {
          "iopub.status.busy": "2024-06-13T13:03:03.112271Z",
          "iopub.execute_input": "2024-06-13T13:03:03.112656Z",
          "iopub.status.idle": "2024-06-13T13:04:49.481365Z",
          "shell.execute_reply.started": "2024-06-13T13:03:03.112619Z",
          "shell.execute_reply": "2024-06-13T13:04:49.480526Z"
        },
        "trusted": true,
        "id": "eMOuLC2YwO4X",
        "outputId": "ffe5cb5f-07e3-4f8b-8c3f-e2a0b30f54a1",
        "colab": {
          "base_uri": "https://localhost:8080/"
        }
      },
      "execution_count": 30,
      "outputs": [
        {
          "output_type": "stream",
          "name": "stdout",
          "text": [
            "Epoch 1/20\n",
            "1875/1875 [==============================] - 14s 5ms/step - loss: 0.8383 - accuracy: 0.7063\n",
            "Epoch 2/20\n",
            "1875/1875 [==============================] - 10s 6ms/step - loss: 0.2998 - accuracy: 0.9111\n",
            "Epoch 3/20\n",
            "1875/1875 [==============================] - 10s 6ms/step - loss: 0.2198 - accuracy: 0.9372\n",
            "Epoch 4/20\n",
            "1875/1875 [==============================] - 11s 6ms/step - loss: 0.1761 - accuracy: 0.9502\n",
            "Epoch 5/20\n",
            "1875/1875 [==============================] - 10s 6ms/step - loss: 0.1430 - accuracy: 0.9601\n",
            "Epoch 6/20\n",
            "1875/1875 [==============================] - 10s 5ms/step - loss: 0.1209 - accuracy: 0.9654\n",
            "Epoch 7/20\n",
            "1875/1875 [==============================] - 11s 6ms/step - loss: 0.1050 - accuracy: 0.9700\n",
            "Epoch 8/20\n",
            "1875/1875 [==============================] - 11s 6ms/step - loss: 0.0934 - accuracy: 0.9730\n",
            "Epoch 9/20\n",
            "1875/1875 [==============================] - 10s 6ms/step - loss: 0.0834 - accuracy: 0.9761\n",
            "Epoch 10/20\n",
            "1875/1875 [==============================] - 10s 6ms/step - loss: 0.0758 - accuracy: 0.9778\n",
            "Epoch 11/20\n",
            "1875/1875 [==============================] - 10s 5ms/step - loss: 0.0676 - accuracy: 0.9804\n",
            "Epoch 12/20\n",
            "1875/1875 [==============================] - 10s 6ms/step - loss: 0.0632 - accuracy: 0.9817\n",
            "Epoch 13/20\n",
            "1875/1875 [==============================] - 10s 6ms/step - loss: 0.0590 - accuracy: 0.9833\n",
            "Epoch 14/20\n",
            "1875/1875 [==============================] - 10s 6ms/step - loss: 0.0526 - accuracy: 0.9846\n",
            "Epoch 15/20\n",
            "1875/1875 [==============================] - 10s 5ms/step - loss: 0.0482 - accuracy: 0.9860\n",
            "Epoch 16/20\n",
            "1875/1875 [==============================] - 10s 5ms/step - loss: 0.0461 - accuracy: 0.9866\n",
            "Epoch 17/20\n",
            "1875/1875 [==============================] - 11s 6ms/step - loss: 0.0426 - accuracy: 0.9878\n",
            "Epoch 18/20\n",
            "1875/1875 [==============================] - 10s 6ms/step - loss: 0.0402 - accuracy: 0.9883\n",
            "Epoch 19/20\n",
            "1875/1875 [==============================] - 10s 5ms/step - loss: 0.0402 - accuracy: 0.9883\n",
            "Epoch 20/20\n",
            "1875/1875 [==============================] - 10s 5ms/step - loss: 0.0370 - accuracy: 0.9892\n"
          ]
        },
        {
          "output_type": "execute_result",
          "data": {
            "text/plain": [
              "<keras.src.callbacks.History at 0x7e3ea8146440>"
            ]
          },
          "metadata": {},
          "execution_count": 30
        }
      ]
    },
    {
      "cell_type": "code",
      "source": [
        "inception_mnist_model.summary()"
      ],
      "metadata": {
        "execution": {
          "iopub.status.busy": "2024-06-13T13:04:49.482391Z",
          "iopub.execute_input": "2024-06-13T13:04:49.482655Z",
          "iopub.status.idle": "2024-06-13T13:04:49.526346Z",
          "shell.execute_reply.started": "2024-06-13T13:04:49.482631Z",
          "shell.execute_reply": "2024-06-13T13:04:49.525521Z"
        },
        "trusted": true,
        "id": "fOCBe-DmwO4X",
        "outputId": "ef808a51-accf-49ac-bc0d-d019c07cf85a",
        "colab": {
          "base_uri": "https://localhost:8080/"
        }
      },
      "execution_count": 31,
      "outputs": [
        {
          "output_type": "stream",
          "name": "stdout",
          "text": [
            "Model: \"model\"\n",
            "__________________________________________________________________________________________________\n",
            " Layer (type)                Output Shape                 Param #   Connected to                  \n",
            "==================================================================================================\n",
            " input_3 (InputLayer)        [(None, 28, 28, 1)]          0         []                            \n",
            "                                                                                                  \n",
            " conv2d_9 (Conv2D)           (None, 28, 28, 32)           320       ['input_3[0][0]']             \n",
            "                                                                                                  \n",
            " max_pooling2d_7 (MaxPoolin  (None, 14, 14, 32)           0         ['conv2d_9[0][0]']            \n",
            " g2D)                                                                                             \n",
            "                                                                                                  \n",
            " max_pooling2d_8 (MaxPoolin  (None, 14, 14, 32)           0         ['max_pooling2d_7[0][0]']     \n",
            " g2D)                                                                                             \n",
            "                                                                                                  \n",
            " conv2d_10 (Conv2D)          (None, 14, 14, 16)           528       ['max_pooling2d_7[0][0]']     \n",
            "                                                                                                  \n",
            " conv2d_11 (Conv2D)          (None, 14, 14, 32)           9248      ['max_pooling2d_7[0][0]']     \n",
            "                                                                                                  \n",
            " conv2d_12 (Conv2D)          (None, 14, 14, 8)            264       ['max_pooling2d_8[0][0]']     \n",
            "                                                                                                  \n",
            " concatenate (Concatenate)   (None, 14, 14, 56)           0         ['conv2d_10[0][0]',           \n",
            "                                                                     'conv2d_11[0][0]',           \n",
            "                                                                     'conv2d_12[0][0]']           \n",
            "                                                                                                  \n",
            " max_pooling2d_9 (MaxPoolin  (None, 14, 14, 56)           0         ['concatenate[0][0]']         \n",
            " g2D)                                                                                             \n",
            "                                                                                                  \n",
            " conv2d_13 (Conv2D)          (None, 14, 14, 32)           1824      ['concatenate[0][0]']         \n",
            "                                                                                                  \n",
            " conv2d_14 (Conv2D)          (None, 14, 14, 64)           32320     ['concatenate[0][0]']         \n",
            "                                                                                                  \n",
            " conv2d_15 (Conv2D)          (None, 14, 14, 16)           912       ['max_pooling2d_9[0][0]']     \n",
            "                                                                                                  \n",
            " concatenate_1 (Concatenate  (None, 14, 14, 112)          0         ['conv2d_13[0][0]',           \n",
            " )                                                                   'conv2d_14[0][0]',           \n",
            "                                                                     'conv2d_15[0][0]']           \n",
            "                                                                                                  \n",
            " global_average_pooling2d (  (None, 112)                  0         ['concatenate_1[0][0]']       \n",
            " GlobalAveragePooling2D)                                                                          \n",
            "                                                                                                  \n",
            " dense_10 (Dense)            (None, 128)                  14464     ['global_average_pooling2d[0][\n",
            "                                                                    0]']                          \n",
            "                                                                                                  \n",
            " dropout_5 (Dropout)         (None, 128)                  0         ['dense_10[0][0]']            \n",
            "                                                                                                  \n",
            " dense_11 (Dense)            (None, 10)                   1290      ['dropout_5[0][0]']           \n",
            "                                                                                                  \n",
            "==================================================================================================\n",
            "Total params: 61170 (238.95 KB)\n",
            "Trainable params: 61170 (238.95 KB)\n",
            "Non-trainable params: 0 (0.00 Byte)\n",
            "__________________________________________________________________________________________________\n"
          ]
        }
      ]
    },
    {
      "cell_type": "code",
      "source": [
        "loss_inception, accuracy_inception = inception_mnist_model.evaluate(X_test, y_test)\n",
        "loss_inception, accuracy_inception"
      ],
      "metadata": {
        "execution": {
          "iopub.status.busy": "2024-06-13T13:04:49.527463Z",
          "iopub.execute_input": "2024-06-13T13:04:49.527732Z",
          "iopub.status.idle": "2024-06-13T13:04:51.199323Z",
          "shell.execute_reply.started": "2024-06-13T13:04:49.527708Z",
          "shell.execute_reply": "2024-06-13T13:04:51.198427Z"
        },
        "trusted": true,
        "id": "2cRplilhwO4Y",
        "outputId": "3418efc2-d036-42a6-a7b2-e0a7072c698c",
        "colab": {
          "base_uri": "https://localhost:8080/"
        }
      },
      "execution_count": 32,
      "outputs": [
        {
          "output_type": "stream",
          "name": "stdout",
          "text": [
            "313/313 [==============================] - 2s 5ms/step - loss: 0.0307 - accuracy: 0.9908\n"
          ]
        },
        {
          "output_type": "execute_result",
          "data": {
            "text/plain": [
              "(0.03073299303650856, 0.9908000230789185)"
            ]
          },
          "metadata": {},
          "execution_count": 32
        }
      ]
    },
    {
      "cell_type": "code",
      "source": [
        "model_names = ['Dense', 'CNN', 'CNN with Batch Norm and Dropout', 'Alex Net', 'Inception Net']\n",
        "losses = [loss1, loss2, loss3, loss_alex, loss_inception]\n",
        "accuracies = [accuracy1, accuracy2, accuracy3, accuracy_alex, accuracy_inception]\n",
        "\n",
        "results = pd.DataFrame({\n",
        "    'model_name': model_names,\n",
        "    'loss': losses,\n",
        "    'accuracy': accuracies\n",
        "})\n",
        "\n",
        "print(results.head())"
      ],
      "metadata": {
        "execution": {
          "iopub.status.busy": "2024-06-13T13:04:51.200663Z",
          "iopub.execute_input": "2024-06-13T13:04:51.201164Z",
          "iopub.status.idle": "2024-06-13T13:04:51.210844Z",
          "shell.execute_reply.started": "2024-06-13T13:04:51.201126Z",
          "shell.execute_reply": "2024-06-13T13:04:51.209858Z"
        },
        "trusted": true,
        "id": "xT3J39BfwO4Y",
        "outputId": "8be5633a-721e-4339-b8f9-0b5202f45676",
        "colab": {
          "base_uri": "https://localhost:8080/"
        }
      },
      "execution_count": 33,
      "outputs": [
        {
          "output_type": "stream",
          "name": "stdout",
          "text": [
            "                        model_name      loss  accuracy\n",
            "0                            Dense  0.080336    0.9815\n",
            "1                              CNN  0.052633    0.9907\n",
            "2  CNN with Batch Norm and Dropout  0.020471    0.9930\n",
            "3                         Alex Net  0.030347    0.9934\n",
            "4                    Inception Net  0.030733    0.9908\n"
          ]
        }
      ]
    },
    {
      "cell_type": "code",
      "source": [],
      "metadata": {
        "id": "m6A15sIcwO4Z"
      },
      "execution_count": 33,
      "outputs": []
    }
  ]
}